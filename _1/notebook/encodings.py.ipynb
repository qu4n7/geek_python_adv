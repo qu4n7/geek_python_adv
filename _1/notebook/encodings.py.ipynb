{
 "cells": [
  {
   "cell_type": "code",
   "execution_count": 52,
   "metadata": {},
   "outputs": [
    {
     "name": "stdout",
     "output_type": "stream",
     "text": [
      "тип данных 'разработка': <class 'str'>, 'сокет': <class 'str'>, 'декоратор': <class 'str'>\n",
      "\n",
      "\n",
      "\n",
      "b'\\xd1\\x80\\xd0\\xb0\\xd0\\xb7\\xd1\\x80\\xd0\\xb0\\xd0\\xb1\\xd0\\xbe\\xd1\\x82\\xd0\\xba\\xd0\\xb0' \n",
      "тип переменной: <class 'bytes'> \n",
      " b'\\xd1\\x81\\xd0\\xbe\\xd0\\xba\\xd0\\xb5\\xd1\\x82' \n",
      "тип переменной: <class 'bytes'> \n",
      " b'\\xd0\\xb4\\xd0\\xb5\\xd0\\xba\\xd0\\xbe\\xd1\\x80\\xd0\\xb0\\xd1\\x82\\xd0\\xbe\\xd1\\x80' \n",
      "тип переменной: <class 'bytes'> \n",
      "\n",
      "тип данных:  <class 'bytes'> <class 'bytes'> <class 'bytes'>\n",
      "содержимое:  \n",
      " b'class' \n",
      " b'function' \n",
      " b'method' \n",
      "\n",
      "длина переменных:  5 8 6\n",
      "\n",
      "\n",
      "\n",
      "возможно представить в байтовом типа: attribute,type\n",
      "невозможно представить в байтовом типа: \"функция\", \"класс\"\n",
      "b'\\xd1\\x80\\xd0\\xb0\\xd0\\xb7\\xd1\\x80\\xd0\\xb0\\xd0\\xb1\\xd0\\xbe\\xd1\\x82\\xd0\\xba\\xd0\\xb0' \n",
      " b'\\xd0\\xb0\\xd0\\xb4\\xd0\\xbc\\xd0\\xb8\\xd0\\xbd\\xd0\\xb8\\xd1\\x81\\xd1\\x82\\xd1\\x80\\xd0\\xb8\\xd1\\x80\\xd0\\xbe\\xd0\\xb2\\xd0\\xb0\\xd0\\xbd\\xd0\\xb8\\xd0\\xb5' \n",
      " b'\\xff\\xfep\\x00r\\x00o\\x00t\\x00o\\x00c\\x00o\\x00l\\x00' \n",
      " b'\\xff\\xfes\\x00t\\x00a\\x00n\\x00d\\x00a\\x00r\\x00d\\x00' \n",
      "\n",
      "разработка \n",
      " администрирование \n",
      " protocol \n",
      " standard \n",
      "\n"
     ]
    }
   ],
   "source": [
    "'''\n",
    "1. Каждое из слов «разработка», «сокет», «декоратор» представить в строковом формате и проверить тип \n",
    "и содержание соответствующих переменных. Затем с помощью онлайн-конвертера преобразовать строковые \n",
    "представление в формат Unicode и также проверить тип и содержимое переменных.\n",
    "'''\n",
    "# строковый формат\n",
    "w1, w2, w3 = 'разработка', 'сокет', 'декоратор'\n",
    "print(f\"тип данных 'разработка': {type(w1)}, 'сокет': {type(w2)}, 'декоратор': {type(w3)}\")\n",
    "\n",
    "print('\\n'*2)\n",
    "\n",
    "# преобразование в формат unicode\n",
    "bw1, bw2, bw3 = w1.encode(), w2.encode(), w3.encode()\n",
    "print(bw1, '\\nтип переменной:',type(bw1),'\\n',\n",
    "     bw2, '\\nтип переменной:',type(bw2),'\\n',\n",
    "     bw3, '\\nтип переменной:',type(bw3),'\\n')\n",
    "\n",
    "'''\n",
    "Каждое из слов «class», «function», «method» записать в байтовом типе без преобразования в \n",
    "последовательность кодов (не используя методы encode и decode) и определить тип, содержимое \n",
    "и длину соответствующих переменных.\n",
    "'''\n",
    "w4, w5, w6 = b'class', b'function', b'method'\n",
    "print('тип данных: ', type(w4), type(w5), type(w6))\n",
    "print('содержимое: ','\\n', w4,'\\n',w5,'\\n',w6,'\\n',)\n",
    "print('длина переменных: ', len(w4), len(w5), len(w6))\n",
    "\n",
    "print('\\n'*2)\n",
    "'''\n",
    "Определить, какие из слов «attribute», «класс», «функция», «type» невозможно записать в байтовом типе.\n",
    "'''\n",
    "w7, w8 = b'attribute', b'type'\n",
    "print(f'возможно представить в байтовом типа: {w7.decode()},{w8.decode()}')\n",
    "print('невозможно представить в байтовом типа: \"функция\", \"класс\"')\n",
    "\n",
    "'''\n",
    "Преобразовать слова «разработка», «администрирование», «protocol», «standard» из строкового \n",
    "представления в байтовое и выполнить обратное преобразование (используя методы encode и decode).\n",
    "'''\n",
    "w9, w10, w11, w12 = 'разработка', 'администрирование', 'protocol', 'standard'\n",
    "ew9, ew10, ew11, ew12 = w9.encode(), w10.encode(), w11.encode('utf-16'), w12.encode('utf-16') \n",
    "print(ew9,'\\n',ew10,'\\n',ew11,'\\n',ew12,'\\n')\n",
    "bw9, bw10, bw11, bw12 = ew9.decode(), ew10.decode(), ew11.decode('utf-16'), ew12.decode('utf-16')\n",
    "print(bw9,'\\n',bw10,'\\n',bw11,'\\n',bw12,'\\n')\n",
    "# кодирование / декодирование латиницы проводил через utf-16 для создания визуальной однородности )"
   ]
  }
 ],
 "metadata": {
  "kernelspec": {
   "display_name": "Python 3",
   "language": "python",
   "name": "python3"
  },
  "language_info": {
   "codemirror_mode": {
    "name": "ipython",
    "version": 3
   },
   "file_extension": ".py",
   "mimetype": "text/x-python",
   "name": "python",
   "nbconvert_exporter": "python",
   "pygments_lexer": "ipython3",
   "version": "3.7.3"
  }
 },
 "nbformat": 4,
 "nbformat_minor": 2
}
